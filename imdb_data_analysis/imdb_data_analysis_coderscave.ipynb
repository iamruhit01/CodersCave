{
 "cells": [
  {
   "cell_type": "markdown",
   "id": "d93af6ac",
   "metadata": {},
   "source": [
    "# IMDB Data Analysis\n",
    "#### Ruhit Debnath\n",
    "Data Science Intern <br>\n",
    "<b>CodersCave<b>"
   ]
  },
  {
   "cell_type": "code",
   "execution_count": 22,
   "id": "0ddcb38b",
   "metadata": {
    "_cell_guid": "b1076dfc-b9ad-4769-8c92-a6c4dae69d19",
    "_uuid": "8f2839f25d086af736a60e9eeb907d3b93b6e0e5",
    "execution": {
     "iopub.execute_input": "2023-06-13T09:31:06.245344Z",
     "iopub.status.busy": "2023-06-13T09:31:06.244845Z",
     "iopub.status.idle": "2023-06-13T09:31:06.268026Z",
     "shell.execute_reply": "2023-06-13T09:31:06.266587Z"
    },
    "papermill": {
     "duration": 0.035897,
     "end_time": "2023-06-13T09:31:06.270583",
     "exception": false,
     "start_time": "2023-06-13T09:31:06.234686",
     "status": "completed"
    },
    "tags": []
   },
   "outputs": [],
   "source": [
    "# This Python 3 environment comes with many helpful analytics libraries installed\n",
    "# It is defined by the kaggle/python Docker image: https://github.com/kaggle/docker-python\n",
    "# For example, here's several helpful packages to load\n",
    "\n",
    "import numpy as np # linear algebra\n",
    "import pandas as pd # data processing, CSV file I/O (e.g. pd.read_csv)\n",
    "import matplotlib.pyplot as plt\n",
    "\n",
    "# Input data files are available in the read-only \"../input/\" directory\n",
    "# For example, running this (by clicking run or pressing Shift+Enter) will list all files under the input directory\n",
    "\n",
    "import os\n",
    "for dirname, _, filenames in os.walk('/kaggle/input'):\n",
    "    for filename in filenames:\n",
    "        print(os.path.join(dirname, filename))\n",
    "\n",
    "# You can write up to 20GB to the current directory (/kaggle/working/) that gets preserved as output when you create a version using \"Save & Run All\" \n",
    "# You can also write temporary files to /kaggle/temp/, but they won't be saved outside of the current session"
   ]
  },
  {
   "cell_type": "markdown",
   "id": "56cd483f",
   "metadata": {
    "papermill": {
     "duration": 0.008501,
     "end_time": "2023-06-13T09:31:06.288684",
     "exception": false,
     "start_time": "2023-06-13T09:31:06.280183",
     "status": "completed"
    },
    "tags": []
   },
   "source": [
    "# Data Science Task -  Analyzing the IMDB Dataset of Top 1000 Movies and TV Shows using Pandas\n"
   ]
  },
  {
   "cell_type": "markdown",
   "id": "842a942a",
   "metadata": {
    "papermill": {
     "duration": 0.008445,
     "end_time": "2023-06-13T09:31:06.307507",
     "exception": false,
     "start_time": "2023-06-13T09:31:06.299062",
     "status": "completed"
    },
    "tags": []
   },
   "source": [
    "# Objective:\n",
    "\n",
    "In this task you are requested to analyze the top rated movies and TV shows on IMDB Dataset to find out which genre is the most popular and which director has the most top-rated movies/TV shows.\n",
    "\n",
    "Steps:\n",
    "\n",
    "# Download the IMDB dataset of top 1000 movies and TV shows from Kaggle and load it into a pandas dataframe using the read_csv() function.\n",
    "- Clean and preprocess the data by removing unnecessary columns and handling missing values.\n",
    "- Explore the data to identify the most popular genre of movies and TV shows using pandas.\n",
    "- Create a new dataframe containing the count of movies/TV shows in each genre using pandas.\n",
    "- Visualize the data using a bar chart to show the most popular genre of movies/TV shows using pandas and the matplotlib library.\n",
    "- Identify the director with the most top-rated movies/TV shows by creating a new dataframe containing the count of movies/TV shows directed by each director using pandas.\n",
    "- Visualize the data using a bar chart to show the director with the most top-rated movies/TV shows using pandas and matplotlib.\n",
    "- Write a report summarizing your analysis and findings, including any insights or observations you discovered, using - markdown cells in the Jupyter notebook.\n"
   ]
  },
  {
   "cell_type": "code",
   "execution_count": 3,
   "id": "652392ac",
   "metadata": {
    "execution": {
     "iopub.execute_input": "2023-06-13T09:31:06.327929Z",
     "iopub.status.busy": "2023-06-13T09:31:06.327007Z",
     "iopub.status.idle": "2023-06-13T09:31:06.399309Z",
     "shell.execute_reply": "2023-06-13T09:31:06.398467Z"
    },
    "papermill": {
     "duration": 0.085644,
     "end_time": "2023-06-13T09:31:06.401417",
     "exception": false,
     "start_time": "2023-06-13T09:31:06.315773",
     "status": "completed"
    },
    "tags": []
   },
   "outputs": [
    {
     "data": {
      "text/html": [
       "<div>\n",
       "<style scoped>\n",
       "    .dataframe tbody tr th:only-of-type {\n",
       "        vertical-align: middle;\n",
       "    }\n",
       "\n",
       "    .dataframe tbody tr th {\n",
       "        vertical-align: top;\n",
       "    }\n",
       "\n",
       "    .dataframe thead th {\n",
       "        text-align: right;\n",
       "    }\n",
       "</style>\n",
       "<table border=\"1\" class=\"dataframe\">\n",
       "  <thead>\n",
       "    <tr style=\"text-align: right;\">\n",
       "      <th></th>\n",
       "      <th>Poster_Link</th>\n",
       "      <th>Series_Title</th>\n",
       "      <th>Released_Year</th>\n",
       "      <th>Certificate</th>\n",
       "      <th>Runtime</th>\n",
       "      <th>Genre</th>\n",
       "      <th>IMDB_Rating</th>\n",
       "      <th>Overview</th>\n",
       "      <th>Meta_score</th>\n",
       "      <th>Director</th>\n",
       "      <th>Star1</th>\n",
       "      <th>Star2</th>\n",
       "      <th>Star3</th>\n",
       "      <th>Star4</th>\n",
       "      <th>No_of_Votes</th>\n",
       "      <th>Gross</th>\n",
       "    </tr>\n",
       "  </thead>\n",
       "  <tbody>\n",
       "    <tr>\n",
       "      <th>0</th>\n",
       "      <td>https://m.media-amazon.com/images/M/MV5BMDFkYT...</td>\n",
       "      <td>The Shawshank Redemption</td>\n",
       "      <td>1994</td>\n",
       "      <td>A</td>\n",
       "      <td>142 min</td>\n",
       "      <td>Drama</td>\n",
       "      <td>9.3</td>\n",
       "      <td>Two imprisoned men bond over a number of years...</td>\n",
       "      <td>80.0</td>\n",
       "      <td>Frank Darabont</td>\n",
       "      <td>Tim Robbins</td>\n",
       "      <td>Morgan Freeman</td>\n",
       "      <td>Bob Gunton</td>\n",
       "      <td>William Sadler</td>\n",
       "      <td>2343110</td>\n",
       "      <td>28,341,469</td>\n",
       "    </tr>\n",
       "    <tr>\n",
       "      <th>1</th>\n",
       "      <td>https://m.media-amazon.com/images/M/MV5BM2MyNj...</td>\n",
       "      <td>The Godfather</td>\n",
       "      <td>1972</td>\n",
       "      <td>A</td>\n",
       "      <td>175 min</td>\n",
       "      <td>Crime, Drama</td>\n",
       "      <td>9.2</td>\n",
       "      <td>An organized crime dynasty's aging patriarch t...</td>\n",
       "      <td>100.0</td>\n",
       "      <td>Francis Ford Coppola</td>\n",
       "      <td>Marlon Brando</td>\n",
       "      <td>Al Pacino</td>\n",
       "      <td>James Caan</td>\n",
       "      <td>Diane Keaton</td>\n",
       "      <td>1620367</td>\n",
       "      <td>134,966,411</td>\n",
       "    </tr>\n",
       "    <tr>\n",
       "      <th>2</th>\n",
       "      <td>https://m.media-amazon.com/images/M/MV5BMTMxNT...</td>\n",
       "      <td>The Dark Knight</td>\n",
       "      <td>2008</td>\n",
       "      <td>UA</td>\n",
       "      <td>152 min</td>\n",
       "      <td>Action, Crime, Drama</td>\n",
       "      <td>9.0</td>\n",
       "      <td>When the menace known as the Joker wreaks havo...</td>\n",
       "      <td>84.0</td>\n",
       "      <td>Christopher Nolan</td>\n",
       "      <td>Christian Bale</td>\n",
       "      <td>Heath Ledger</td>\n",
       "      <td>Aaron Eckhart</td>\n",
       "      <td>Michael Caine</td>\n",
       "      <td>2303232</td>\n",
       "      <td>534,858,444</td>\n",
       "    </tr>\n",
       "    <tr>\n",
       "      <th>3</th>\n",
       "      <td>https://m.media-amazon.com/images/M/MV5BMWMwMG...</td>\n",
       "      <td>The Godfather: Part II</td>\n",
       "      <td>1974</td>\n",
       "      <td>A</td>\n",
       "      <td>202 min</td>\n",
       "      <td>Crime, Drama</td>\n",
       "      <td>9.0</td>\n",
       "      <td>The early life and career of Vito Corleone in ...</td>\n",
       "      <td>90.0</td>\n",
       "      <td>Francis Ford Coppola</td>\n",
       "      <td>Al Pacino</td>\n",
       "      <td>Robert De Niro</td>\n",
       "      <td>Robert Duvall</td>\n",
       "      <td>Diane Keaton</td>\n",
       "      <td>1129952</td>\n",
       "      <td>57,300,000</td>\n",
       "    </tr>\n",
       "    <tr>\n",
       "      <th>4</th>\n",
       "      <td>https://m.media-amazon.com/images/M/MV5BMWU4N2...</td>\n",
       "      <td>12 Angry Men</td>\n",
       "      <td>1957</td>\n",
       "      <td>U</td>\n",
       "      <td>96 min</td>\n",
       "      <td>Crime, Drama</td>\n",
       "      <td>9.0</td>\n",
       "      <td>A jury holdout attempts to prevent a miscarria...</td>\n",
       "      <td>96.0</td>\n",
       "      <td>Sidney Lumet</td>\n",
       "      <td>Henry Fonda</td>\n",
       "      <td>Lee J. Cobb</td>\n",
       "      <td>Martin Balsam</td>\n",
       "      <td>John Fiedler</td>\n",
       "      <td>689845</td>\n",
       "      <td>4,360,000</td>\n",
       "    </tr>\n",
       "  </tbody>\n",
       "</table>\n",
       "</div>"
      ],
      "text/plain": [
       "                                         Poster_Link  \\\n",
       "0  https://m.media-amazon.com/images/M/MV5BMDFkYT...   \n",
       "1  https://m.media-amazon.com/images/M/MV5BM2MyNj...   \n",
       "2  https://m.media-amazon.com/images/M/MV5BMTMxNT...   \n",
       "3  https://m.media-amazon.com/images/M/MV5BMWMwMG...   \n",
       "4  https://m.media-amazon.com/images/M/MV5BMWU4N2...   \n",
       "\n",
       "               Series_Title Released_Year Certificate  Runtime  \\\n",
       "0  The Shawshank Redemption          1994           A  142 min   \n",
       "1             The Godfather          1972           A  175 min   \n",
       "2           The Dark Knight          2008          UA  152 min   \n",
       "3    The Godfather: Part II          1974           A  202 min   \n",
       "4              12 Angry Men          1957           U   96 min   \n",
       "\n",
       "                  Genre  IMDB_Rating  \\\n",
       "0                 Drama          9.3   \n",
       "1          Crime, Drama          9.2   \n",
       "2  Action, Crime, Drama          9.0   \n",
       "3          Crime, Drama          9.0   \n",
       "4          Crime, Drama          9.0   \n",
       "\n",
       "                                            Overview  Meta_score  \\\n",
       "0  Two imprisoned men bond over a number of years...        80.0   \n",
       "1  An organized crime dynasty's aging patriarch t...       100.0   \n",
       "2  When the menace known as the Joker wreaks havo...        84.0   \n",
       "3  The early life and career of Vito Corleone in ...        90.0   \n",
       "4  A jury holdout attempts to prevent a miscarria...        96.0   \n",
       "\n",
       "               Director           Star1           Star2          Star3  \\\n",
       "0        Frank Darabont     Tim Robbins  Morgan Freeman     Bob Gunton   \n",
       "1  Francis Ford Coppola   Marlon Brando       Al Pacino     James Caan   \n",
       "2     Christopher Nolan  Christian Bale    Heath Ledger  Aaron Eckhart   \n",
       "3  Francis Ford Coppola       Al Pacino  Robert De Niro  Robert Duvall   \n",
       "4          Sidney Lumet     Henry Fonda     Lee J. Cobb  Martin Balsam   \n",
       "\n",
       "            Star4  No_of_Votes        Gross  \n",
       "0  William Sadler      2343110   28,341,469  \n",
       "1    Diane Keaton      1620367  134,966,411  \n",
       "2   Michael Caine      2303232  534,858,444  \n",
       "3    Diane Keaton      1129952   57,300,000  \n",
       "4    John Fiedler       689845    4,360,000  "
      ]
     },
     "execution_count": 3,
     "metadata": {},
     "output_type": "execute_result"
    }
   ],
   "source": [
    "# read data \n",
    "data = pd.read_csv('imdb_top_1000.csv')\n",
    "data.head()"
   ]
  },
  {
   "cell_type": "code",
   "execution_count": 4,
   "id": "b980f5cc",
   "metadata": {
    "execution": {
     "iopub.execute_input": "2023-06-13T09:31:06.420587Z",
     "iopub.status.busy": "2023-06-13T09:31:06.420153Z",
     "iopub.status.idle": "2023-06-13T09:31:06.427520Z",
     "shell.execute_reply": "2023-06-13T09:31:06.426450Z"
    },
    "papermill": {
     "duration": 0.020392,
     "end_time": "2023-06-13T09:31:06.429763",
     "exception": false,
     "start_time": "2023-06-13T09:31:06.409371",
     "status": "completed"
    },
    "tags": []
   },
   "outputs": [
    {
     "data": {
      "text/plain": [
       "Index(['Poster_Link', 'Series_Title', 'Released_Year', 'Certificate',\n",
       "       'Runtime', 'Genre', 'IMDB_Rating', 'Overview', 'Meta_score', 'Director',\n",
       "       'Star1', 'Star2', 'Star3', 'Star4', 'No_of_Votes', 'Gross'],\n",
       "      dtype='object')"
      ]
     },
     "execution_count": 4,
     "metadata": {},
     "output_type": "execute_result"
    }
   ],
   "source": [
    "data.columns"
   ]
  },
  {
   "cell_type": "code",
   "execution_count": 5,
   "id": "02254c29",
   "metadata": {
    "execution": {
     "iopub.execute_input": "2023-06-13T09:31:06.447813Z",
     "iopub.status.busy": "2023-06-13T09:31:06.447430Z",
     "iopub.status.idle": "2023-06-13T09:31:06.454007Z",
     "shell.execute_reply": "2023-06-13T09:31:06.453176Z"
    },
    "papermill": {
     "duration": 0.018114,
     "end_time": "2023-06-13T09:31:06.456007",
     "exception": false,
     "start_time": "2023-06-13T09:31:06.437893",
     "status": "completed"
    },
    "tags": []
   },
   "outputs": [
    {
     "data": {
      "text/plain": [
       "(1000, 16)"
      ]
     },
     "execution_count": 5,
     "metadata": {},
     "output_type": "execute_result"
    }
   ],
   "source": [
    "data.shape"
   ]
  },
  {
   "cell_type": "code",
   "execution_count": 6,
   "id": "80d6ad09",
   "metadata": {
    "execution": {
     "iopub.execute_input": "2023-06-13T09:31:06.475259Z",
     "iopub.status.busy": "2023-06-13T09:31:06.474201Z",
     "iopub.status.idle": "2023-06-13T09:31:06.479634Z",
     "shell.execute_reply": "2023-06-13T09:31:06.478680Z"
    },
    "papermill": {
     "duration": 0.017659,
     "end_time": "2023-06-13T09:31:06.482103",
     "exception": false,
     "start_time": "2023-06-13T09:31:06.464444",
     "status": "completed"
    },
    "tags": []
   },
   "outputs": [],
   "source": [
    "def get_features_data_types(df):\n",
    "    feature_types = df.dtypes.rename('type').reset_index().rename(columns={'index':'feature'})\n",
    "    return feature_types"
   ]
  },
  {
   "cell_type": "code",
   "execution_count": 7,
   "id": "4e21298a",
   "metadata": {
    "execution": {
     "iopub.execute_input": "2023-06-13T09:31:06.501865Z",
     "iopub.status.busy": "2023-06-13T09:31:06.501089Z",
     "iopub.status.idle": "2023-06-13T09:31:06.507197Z",
     "shell.execute_reply": "2023-06-13T09:31:06.506366Z"
    },
    "papermill": {
     "duration": 0.018644,
     "end_time": "2023-06-13T09:31:06.509413",
     "exception": false,
     "start_time": "2023-06-13T09:31:06.490769",
     "status": "completed"
    },
    "tags": []
   },
   "outputs": [],
   "source": [
    "def get_feature_stats(df):\n",
    "    stats = df.isna().sum().rename('num_of_missing').reset_index().rename(columns={'index':'feature'})\n",
    "    stats['percentage_of_missing'] = stats['num_of_missing']/df.shape[0]\n",
    "    \n",
    "    feature_types = get_features_data_types(df)\n",
    "    \n",
    "    stats = stats.merge(feature_types,\n",
    "                       left_on='feature',\n",
    "                       right_on='feature',\n",
    "                       how='left')\n",
    "    return stats"
   ]
  },
  {
   "cell_type": "code",
   "execution_count": 8,
   "id": "f545800b",
   "metadata": {
    "execution": {
     "iopub.execute_input": "2023-06-13T09:31:06.529643Z",
     "iopub.status.busy": "2023-06-13T09:31:06.528527Z",
     "iopub.status.idle": "2023-06-13T09:31:06.572487Z",
     "shell.execute_reply": "2023-06-13T09:31:06.571575Z"
    },
    "papermill": {
     "duration": 0.056762,
     "end_time": "2023-06-13T09:31:06.574741",
     "exception": false,
     "start_time": "2023-06-13T09:31:06.517979",
     "status": "completed"
    },
    "tags": []
   },
   "outputs": [
    {
     "data": {
      "text/html": [
       "<div>\n",
       "<style scoped>\n",
       "    .dataframe tbody tr th:only-of-type {\n",
       "        vertical-align: middle;\n",
       "    }\n",
       "\n",
       "    .dataframe tbody tr th {\n",
       "        vertical-align: top;\n",
       "    }\n",
       "\n",
       "    .dataframe thead th {\n",
       "        text-align: right;\n",
       "    }\n",
       "</style>\n",
       "<table border=\"1\" class=\"dataframe\">\n",
       "  <thead>\n",
       "    <tr style=\"text-align: right;\">\n",
       "      <th></th>\n",
       "      <th>feature</th>\n",
       "      <th>num_of_missing</th>\n",
       "      <th>percentage_of_missing</th>\n",
       "      <th>type</th>\n",
       "    </tr>\n",
       "  </thead>\n",
       "  <tbody>\n",
       "    <tr>\n",
       "      <th>15</th>\n",
       "      <td>Gross</td>\n",
       "      <td>169</td>\n",
       "      <td>0.169</td>\n",
       "      <td>object</td>\n",
       "    </tr>\n",
       "    <tr>\n",
       "      <th>8</th>\n",
       "      <td>Meta_score</td>\n",
       "      <td>157</td>\n",
       "      <td>0.157</td>\n",
       "      <td>float64</td>\n",
       "    </tr>\n",
       "    <tr>\n",
       "      <th>3</th>\n",
       "      <td>Certificate</td>\n",
       "      <td>101</td>\n",
       "      <td>0.101</td>\n",
       "      <td>object</td>\n",
       "    </tr>\n",
       "    <tr>\n",
       "      <th>0</th>\n",
       "      <td>Poster_Link</td>\n",
       "      <td>0</td>\n",
       "      <td>0.000</td>\n",
       "      <td>object</td>\n",
       "    </tr>\n",
       "    <tr>\n",
       "      <th>1</th>\n",
       "      <td>Series_Title</td>\n",
       "      <td>0</td>\n",
       "      <td>0.000</td>\n",
       "      <td>object</td>\n",
       "    </tr>\n",
       "    <tr>\n",
       "      <th>2</th>\n",
       "      <td>Released_Year</td>\n",
       "      <td>0</td>\n",
       "      <td>0.000</td>\n",
       "      <td>object</td>\n",
       "    </tr>\n",
       "    <tr>\n",
       "      <th>4</th>\n",
       "      <td>Runtime</td>\n",
       "      <td>0</td>\n",
       "      <td>0.000</td>\n",
       "      <td>object</td>\n",
       "    </tr>\n",
       "    <tr>\n",
       "      <th>5</th>\n",
       "      <td>Genre</td>\n",
       "      <td>0</td>\n",
       "      <td>0.000</td>\n",
       "      <td>object</td>\n",
       "    </tr>\n",
       "    <tr>\n",
       "      <th>6</th>\n",
       "      <td>IMDB_Rating</td>\n",
       "      <td>0</td>\n",
       "      <td>0.000</td>\n",
       "      <td>float64</td>\n",
       "    </tr>\n",
       "    <tr>\n",
       "      <th>7</th>\n",
       "      <td>Overview</td>\n",
       "      <td>0</td>\n",
       "      <td>0.000</td>\n",
       "      <td>object</td>\n",
       "    </tr>\n",
       "    <tr>\n",
       "      <th>9</th>\n",
       "      <td>Director</td>\n",
       "      <td>0</td>\n",
       "      <td>0.000</td>\n",
       "      <td>object</td>\n",
       "    </tr>\n",
       "    <tr>\n",
       "      <th>10</th>\n",
       "      <td>Star1</td>\n",
       "      <td>0</td>\n",
       "      <td>0.000</td>\n",
       "      <td>object</td>\n",
       "    </tr>\n",
       "    <tr>\n",
       "      <th>11</th>\n",
       "      <td>Star2</td>\n",
       "      <td>0</td>\n",
       "      <td>0.000</td>\n",
       "      <td>object</td>\n",
       "    </tr>\n",
       "    <tr>\n",
       "      <th>12</th>\n",
       "      <td>Star3</td>\n",
       "      <td>0</td>\n",
       "      <td>0.000</td>\n",
       "      <td>object</td>\n",
       "    </tr>\n",
       "    <tr>\n",
       "      <th>13</th>\n",
       "      <td>Star4</td>\n",
       "      <td>0</td>\n",
       "      <td>0.000</td>\n",
       "      <td>object</td>\n",
       "    </tr>\n",
       "    <tr>\n",
       "      <th>14</th>\n",
       "      <td>No_of_Votes</td>\n",
       "      <td>0</td>\n",
       "      <td>0.000</td>\n",
       "      <td>int64</td>\n",
       "    </tr>\n",
       "  </tbody>\n",
       "</table>\n",
       "</div>"
      ],
      "text/plain": [
       "          feature  num_of_missing  percentage_of_missing     type\n",
       "15          Gross             169                  0.169   object\n",
       "8      Meta_score             157                  0.157  float64\n",
       "3     Certificate             101                  0.101   object\n",
       "0     Poster_Link               0                  0.000   object\n",
       "1    Series_Title               0                  0.000   object\n",
       "2   Released_Year               0                  0.000   object\n",
       "4         Runtime               0                  0.000   object\n",
       "5           Genre               0                  0.000   object\n",
       "6     IMDB_Rating               0                  0.000  float64\n",
       "7        Overview               0                  0.000   object\n",
       "9        Director               0                  0.000   object\n",
       "10          Star1               0                  0.000   object\n",
       "11          Star2               0                  0.000   object\n",
       "12          Star3               0                  0.000   object\n",
       "13          Star4               0                  0.000   object\n",
       "14    No_of_Votes               0                  0.000    int64"
      ]
     },
     "execution_count": 8,
     "metadata": {},
     "output_type": "execute_result"
    }
   ],
   "source": [
    "missing_stats = get_feature_stats(data).sort_values(by=\"percentage_of_missing\", ascending=False) \n",
    "missing_stats"
   ]
  },
  {
   "cell_type": "code",
   "execution_count": 9,
   "id": "ca91b96e",
   "metadata": {
    "execution": {
     "iopub.execute_input": "2023-06-13T09:31:06.594599Z",
     "iopub.status.busy": "2023-06-13T09:31:06.593855Z",
     "iopub.status.idle": "2023-06-13T09:31:06.981053Z",
     "shell.execute_reply": "2023-06-13T09:31:06.979745Z"
    },
    "papermill": {
     "duration": 0.400059,
     "end_time": "2023-06-13T09:31:06.983654",
     "exception": false,
     "start_time": "2023-06-13T09:31:06.583595",
     "status": "completed"
    },
    "tags": []
   },
   "outputs": [
    {
     "data": {
      "image/png": "[encoded data removed]",
      "text/plain": [
       "<Figure size 640x480 with 1 Axes>"
      ]
     },
     "metadata": {},
     "output_type": "display_data"
    }
   ],
   "source": [
    "missing_stats['percentage_of_missing'].hist(bins=30)\n",
    "plt.show()"
   ]
  },
  {
   "cell_type": "code",
   "execution_count": 10,
   "id": "94758295",
   "metadata": {
    "execution": {
     "iopub.execute_input": "2023-06-13T09:31:07.004334Z",
     "iopub.status.busy": "2023-06-13T09:31:07.003850Z",
     "iopub.status.idle": "2023-06-13T09:31:07.022868Z",
     "shell.execute_reply": "2023-06-13T09:31:07.021768Z"
    },
    "papermill": {
     "duration": 0.03254,
     "end_time": "2023-06-13T09:31:07.025548",
     "exception": false,
     "start_time": "2023-06-13T09:31:06.993008",
     "status": "completed"
    },
    "tags": []
   },
   "outputs": [],
   "source": [
    "for one_feature in missing_stats['feature'].values:\n",
    "    data = data[data[one_feature].notna()]"
   ]
  },
  {
   "cell_type": "code",
   "execution_count": 11,
   "id": "c99f299d",
   "metadata": {
    "execution": {
     "iopub.execute_input": "2023-06-13T09:31:07.045710Z",
     "iopub.status.busy": "2023-06-13T09:31:07.045325Z",
     "iopub.status.idle": "2023-06-13T09:31:07.052321Z",
     "shell.execute_reply": "2023-06-13T09:31:07.051332Z"
    },
    "papermill": {
     "duration": 0.01983,
     "end_time": "2023-06-13T09:31:07.054872",
     "exception": false,
     "start_time": "2023-06-13T09:31:07.035042",
     "status": "completed"
    },
    "tags": []
   },
   "outputs": [
    {
     "data": {
      "text/plain": [
       "(714, 16)"
      ]
     },
     "execution_count": 11,
     "metadata": {},
     "output_type": "execute_result"
    }
   ],
   "source": [
    "data.shape"
   ]
  },
  {
   "cell_type": "code",
   "execution_count": 12,
   "id": "bf4f4870",
   "metadata": {
    "execution": {
     "iopub.execute_input": "2023-06-13T09:31:07.075959Z",
     "iopub.status.busy": "2023-06-13T09:31:07.075568Z",
     "iopub.status.idle": "2023-06-13T09:31:07.082853Z",
     "shell.execute_reply": "2023-06-13T09:31:07.081677Z"
    },
    "papermill": {
     "duration": 0.020733,
     "end_time": "2023-06-13T09:31:07.085157",
     "exception": false,
     "start_time": "2023-06-13T09:31:07.064424",
     "status": "completed"
    },
    "tags": []
   },
   "outputs": [
    {
     "data": {
      "text/plain": [
       "0.286"
      ]
     },
     "execution_count": 12,
     "metadata": {},
     "output_type": "execute_result"
    }
   ],
   "source": [
    "(1000 - 714) /1000"
   ]
  },
  {
   "cell_type": "markdown",
   "id": "09102b1f",
   "metadata": {
    "papermill": {
     "duration": 0.009058,
     "end_time": "2023-06-13T09:31:07.103855",
     "exception": false,
     "start_time": "2023-06-13T09:31:07.094797",
     "status": "completed"
    },
    "tags": []
   },
   "source": [
    "# EDA (Exploratory data analysis)\n"
   ]
  },
  {
   "cell_type": "code",
   "execution_count": 13,
   "id": "7fb491cf",
   "metadata": {
    "execution": {
     "iopub.execute_input": "2023-06-13T09:31:07.124817Z",
     "iopub.status.busy": "2023-06-13T09:31:07.123941Z",
     "iopub.status.idle": "2023-06-13T09:31:07.129917Z",
     "shell.execute_reply": "2023-06-13T09:31:07.128815Z"
    },
    "papermill": {
     "duration": 0.019058,
     "end_time": "2023-06-13T09:31:07.132316",
     "exception": false,
     "start_time": "2023-06-13T09:31:07.113258",
     "status": "completed"
    },
    "tags": []
   },
   "outputs": [],
   "source": [
    "# try to see the numeric features\n",
    "\n",
    "# select just numerical data\n",
    "data_numeric = data.select_dtypes(exclude=['object']).copy()"
   ]
  },
  {
   "cell_type": "code",
   "execution_count": 14,
   "id": "86fd1b76",
   "metadata": {
    "execution": {
     "iopub.execute_input": "2023-06-13T09:31:07.153534Z",
     "iopub.status.busy": "2023-06-13T09:31:07.153087Z",
     "iopub.status.idle": "2023-06-13T09:31:08.881242Z",
     "shell.execute_reply": "2023-06-13T09:31:08.880469Z"
    },
    "papermill": {
     "duration": 1.741429,
     "end_time": "2023-06-13T09:31:08.883561",
     "exception": false,
     "start_time": "2023-06-13T09:31:07.142132",
     "status": "completed"
    },
    "tags": []
   },
   "outputs": [
    {
     "data": {
      "image/png": "[encoded data removed]",
      "text/plain": [
       "<Figure size 3000x3000 with 4 Axes>"
      ]
     },
     "metadata": {},
     "output_type": "display_data"
    }
   ],
   "source": [
    "data_numeric.hist(bins=100, figsize=(30,30))\n",
    "plt.show() "
   ]
  },
  {
   "cell_type": "code",
   "execution_count": 15,
   "id": "627f3278",
   "metadata": {
    "execution": {
     "iopub.execute_input": "2023-06-13T09:31:08.905836Z",
     "iopub.status.busy": "2023-06-13T09:31:08.905117Z",
     "iopub.status.idle": "2023-06-13T09:31:08.930202Z",
     "shell.execute_reply": "2023-06-13T09:31:08.929455Z"
    },
    "papermill": {
     "duration": 0.038503,
     "end_time": "2023-06-13T09:31:08.932275",
     "exception": false,
     "start_time": "2023-06-13T09:31:08.893772",
     "status": "completed"
    },
    "tags": []
   },
   "outputs": [
    {
     "data": {
      "text/html": [
       "<div>\n",
       "<style scoped>\n",
       "    .dataframe tbody tr th:only-of-type {\n",
       "        vertical-align: middle;\n",
       "    }\n",
       "\n",
       "    .dataframe tbody tr th {\n",
       "        vertical-align: top;\n",
       "    }\n",
       "\n",
       "    .dataframe thead th {\n",
       "        text-align: right;\n",
       "    }\n",
       "</style>\n",
       "<table border=\"1\" class=\"dataframe\">\n",
       "  <thead>\n",
       "    <tr style=\"text-align: right;\">\n",
       "      <th></th>\n",
       "      <th>Series_Title</th>\n",
       "      <th>Genre</th>\n",
       "      <th>IMDB_Rating</th>\n",
       "      <th>Meta_score</th>\n",
       "      <th>Director</th>\n",
       "      <th>Star1</th>\n",
       "      <th>Star2</th>\n",
       "      <th>Star3</th>\n",
       "      <th>Star4</th>\n",
       "      <th>No_of_Votes</th>\n",
       "      <th>Gross</th>\n",
       "    </tr>\n",
       "  </thead>\n",
       "  <tbody>\n",
       "    <tr>\n",
       "      <th>0</th>\n",
       "      <td>The Shawshank Redemption</td>\n",
       "      <td>Drama</td>\n",
       "      <td>9.3</td>\n",
       "      <td>80.0</td>\n",
       "      <td>Frank Darabont</td>\n",
       "      <td>Tim Robbins</td>\n",
       "      <td>Morgan Freeman</td>\n",
       "      <td>Bob Gunton</td>\n",
       "      <td>William Sadler</td>\n",
       "      <td>2343110</td>\n",
       "      <td>28,341,469</td>\n",
       "    </tr>\n",
       "    <tr>\n",
       "      <th>1</th>\n",
       "      <td>The Godfather</td>\n",
       "      <td>Crime, Drama</td>\n",
       "      <td>9.2</td>\n",
       "      <td>100.0</td>\n",
       "      <td>Francis Ford Coppola</td>\n",
       "      <td>Marlon Brando</td>\n",
       "      <td>Al Pacino</td>\n",
       "      <td>James Caan</td>\n",
       "      <td>Diane Keaton</td>\n",
       "      <td>1620367</td>\n",
       "      <td>134,966,411</td>\n",
       "    </tr>\n",
       "    <tr>\n",
       "      <th>2</th>\n",
       "      <td>The Dark Knight</td>\n",
       "      <td>Action, Crime, Drama</td>\n",
       "      <td>9.0</td>\n",
       "      <td>84.0</td>\n",
       "      <td>Christopher Nolan</td>\n",
       "      <td>Christian Bale</td>\n",
       "      <td>Heath Ledger</td>\n",
       "      <td>Aaron Eckhart</td>\n",
       "      <td>Michael Caine</td>\n",
       "      <td>2303232</td>\n",
       "      <td>534,858,444</td>\n",
       "    </tr>\n",
       "    <tr>\n",
       "      <th>3</th>\n",
       "      <td>The Godfather: Part II</td>\n",
       "      <td>Crime, Drama</td>\n",
       "      <td>9.0</td>\n",
       "      <td>90.0</td>\n",
       "      <td>Francis Ford Coppola</td>\n",
       "      <td>Al Pacino</td>\n",
       "      <td>Robert De Niro</td>\n",
       "      <td>Robert Duvall</td>\n",
       "      <td>Diane Keaton</td>\n",
       "      <td>1129952</td>\n",
       "      <td>57,300,000</td>\n",
       "    </tr>\n",
       "    <tr>\n",
       "      <th>4</th>\n",
       "      <td>12 Angry Men</td>\n",
       "      <td>Crime, Drama</td>\n",
       "      <td>9.0</td>\n",
       "      <td>96.0</td>\n",
       "      <td>Sidney Lumet</td>\n",
       "      <td>Henry Fonda</td>\n",
       "      <td>Lee J. Cobb</td>\n",
       "      <td>Martin Balsam</td>\n",
       "      <td>John Fiedler</td>\n",
       "      <td>689845</td>\n",
       "      <td>4,360,000</td>\n",
       "    </tr>\n",
       "    <tr>\n",
       "      <th>...</th>\n",
       "      <td>...</td>\n",
       "      <td>...</td>\n",
       "      <td>...</td>\n",
       "      <td>...</td>\n",
       "      <td>...</td>\n",
       "      <td>...</td>\n",
       "      <td>...</td>\n",
       "      <td>...</td>\n",
       "      <td>...</td>\n",
       "      <td>...</td>\n",
       "      <td>...</td>\n",
       "    </tr>\n",
       "    <tr>\n",
       "      <th>990</th>\n",
       "      <td>Giù la testa</td>\n",
       "      <td>Drama, War, Western</td>\n",
       "      <td>7.6</td>\n",
       "      <td>77.0</td>\n",
       "      <td>Sergio Leone</td>\n",
       "      <td>Rod Steiger</td>\n",
       "      <td>James Coburn</td>\n",
       "      <td>Romolo Valli</td>\n",
       "      <td>Maria Monti</td>\n",
       "      <td>30144</td>\n",
       "      <td>696,690</td>\n",
       "    </tr>\n",
       "    <tr>\n",
       "      <th>991</th>\n",
       "      <td>Kelly's Heroes</td>\n",
       "      <td>Adventure, Comedy, War</td>\n",
       "      <td>7.6</td>\n",
       "      <td>50.0</td>\n",
       "      <td>Brian G. Hutton</td>\n",
       "      <td>Clint Eastwood</td>\n",
       "      <td>Telly Savalas</td>\n",
       "      <td>Don Rickles</td>\n",
       "      <td>Carroll O'Connor</td>\n",
       "      <td>45338</td>\n",
       "      <td>1,378,435</td>\n",
       "    </tr>\n",
       "    <tr>\n",
       "      <th>992</th>\n",
       "      <td>The Jungle Book</td>\n",
       "      <td>Animation, Adventure, Family</td>\n",
       "      <td>7.6</td>\n",
       "      <td>65.0</td>\n",
       "      <td>Wolfgang Reitherman</td>\n",
       "      <td>Phil Harris</td>\n",
       "      <td>Sebastian Cabot</td>\n",
       "      <td>Louis Prima</td>\n",
       "      <td>Bruce Reitherman</td>\n",
       "      <td>166409</td>\n",
       "      <td>141,843,612</td>\n",
       "    </tr>\n",
       "    <tr>\n",
       "      <th>994</th>\n",
       "      <td>A Hard Day's Night</td>\n",
       "      <td>Comedy, Music, Musical</td>\n",
       "      <td>7.6</td>\n",
       "      <td>96.0</td>\n",
       "      <td>Richard Lester</td>\n",
       "      <td>John Lennon</td>\n",
       "      <td>Paul McCartney</td>\n",
       "      <td>George Harrison</td>\n",
       "      <td>Ringo Starr</td>\n",
       "      <td>40351</td>\n",
       "      <td>13,780,024</td>\n",
       "    </tr>\n",
       "    <tr>\n",
       "      <th>997</th>\n",
       "      <td>From Here to Eternity</td>\n",
       "      <td>Drama, Romance, War</td>\n",
       "      <td>7.6</td>\n",
       "      <td>85.0</td>\n",
       "      <td>Fred Zinnemann</td>\n",
       "      <td>Burt Lancaster</td>\n",
       "      <td>Montgomery Clift</td>\n",
       "      <td>Deborah Kerr</td>\n",
       "      <td>Donna Reed</td>\n",
       "      <td>43374</td>\n",
       "      <td>30,500,000</td>\n",
       "    </tr>\n",
       "  </tbody>\n",
       "</table>\n",
       "<p>714 rows × 11 columns</p>\n",
       "</div>"
      ],
      "text/plain": [
       "                 Series_Title                         Genre  IMDB_Rating  \\\n",
       "0    The Shawshank Redemption                         Drama          9.3   \n",
       "1               The Godfather                  Crime, Drama          9.2   \n",
       "2             The Dark Knight          Action, Crime, Drama          9.0   \n",
       "3      The Godfather: Part II                  Crime, Drama          9.0   \n",
       "4                12 Angry Men                  Crime, Drama          9.0   \n",
       "..                        ...                           ...          ...   \n",
       "990              Giù la testa           Drama, War, Western          7.6   \n",
       "991            Kelly's Heroes        Adventure, Comedy, War          7.6   \n",
       "992           The Jungle Book  Animation, Adventure, Family          7.6   \n",
       "994        A Hard Day's Night        Comedy, Music, Musical          7.6   \n",
       "997     From Here to Eternity           Drama, Romance, War          7.6   \n",
       "\n",
       "     Meta_score              Director           Star1             Star2  \\\n",
       "0          80.0        Frank Darabont     Tim Robbins    Morgan Freeman   \n",
       "1         100.0  Francis Ford Coppola   Marlon Brando         Al Pacino   \n",
       "2          84.0     Christopher Nolan  Christian Bale      Heath Ledger   \n",
       "3          90.0  Francis Ford Coppola       Al Pacino    Robert De Niro   \n",
       "4          96.0          Sidney Lumet     Henry Fonda       Lee J. Cobb   \n",
       "..          ...                   ...             ...               ...   \n",
       "990        77.0          Sergio Leone     Rod Steiger      James Coburn   \n",
       "991        50.0       Brian G. Hutton  Clint Eastwood     Telly Savalas   \n",
       "992        65.0   Wolfgang Reitherman     Phil Harris   Sebastian Cabot   \n",
       "994        96.0        Richard Lester     John Lennon    Paul McCartney   \n",
       "997        85.0        Fred Zinnemann  Burt Lancaster  Montgomery Clift   \n",
       "\n",
       "               Star3             Star4  No_of_Votes        Gross  \n",
       "0         Bob Gunton    William Sadler      2343110   28,341,469  \n",
       "1         James Caan      Diane Keaton      1620367  134,966,411  \n",
       "2      Aaron Eckhart     Michael Caine      2303232  534,858,444  \n",
       "3      Robert Duvall      Diane Keaton      1129952   57,300,000  \n",
       "4      Martin Balsam      John Fiedler       689845    4,360,000  \n",
       "..               ...               ...          ...          ...  \n",
       "990     Romolo Valli       Maria Monti        30144      696,690  \n",
       "991      Don Rickles  Carroll O'Connor        45338    1,378,435  \n",
       "992      Louis Prima  Bruce Reitherman       166409  141,843,612  \n",
       "994  George Harrison       Ringo Starr        40351   13,780,024  \n",
       "997     Deborah Kerr        Donna Reed        43374   30,500,000  \n",
       "\n",
       "[714 rows x 11 columns]"
      ]
     },
     "execution_count": 15,
     "metadata": {},
     "output_type": "execute_result"
    }
   ],
   "source": [
    "\n",
    "#we can see that null values are a very small percentage (around 0.025 %) so we can drop them\n",
    "# data.dropna(inplace=True)\n",
    "\n",
    "#removing unnecessary columns\n",
    "cols = ['Poster_Link','Released_Year','Certificate','Runtime','Overview']\n",
    "\n",
    "data.drop(columns=cols,inplace=True)\n",
    "data"
   ]
  },
  {
   "cell_type": "code",
   "execution_count": 16,
   "id": "961c96d8",
   "metadata": {
    "execution": {
     "iopub.execute_input": "2023-06-13T09:31:08.955750Z",
     "iopub.status.busy": "2023-06-13T09:31:08.955170Z",
     "iopub.status.idle": "2023-06-13T09:31:08.964941Z",
     "shell.execute_reply": "2023-06-13T09:31:08.963508Z"
    },
    "papermill": {
     "duration": 0.024287,
     "end_time": "2023-06-13T09:31:08.967459",
     "exception": false,
     "start_time": "2023-06-13T09:31:08.943172",
     "status": "completed"
    },
    "tags": []
   },
   "outputs": [
    {
     "name": "stdout",
     "output_type": "stream",
     "text": [
      "Drama                         58\n",
      "Drama, Romance                26\n",
      "Comedy, Drama                 24\n",
      "Crime, Drama, Thriller        22\n",
      "Action, Adventure, Sci-Fi     21\n",
      "                              ..\n",
      "Crime, Film-Noir, Thriller     1\n",
      "Drama, Film-Noir, Romance      1\n",
      "Drama, History, Romance        1\n",
      "Adventure, Horror, Sci-Fi      1\n",
      "Comedy, Music, Musical         1\n",
      "Name: Genre, Length: 172, dtype: int64\n"
     ]
    }
   ],
   "source": [
    "#step 3\n",
    "data['Genre'].value_counts()\n",
    "post_popular_genre = data['Genre'].value_counts()\n",
    "print(post_popular_genre)"
   ]
  },
  {
   "cell_type": "code",
   "execution_count": 17,
   "id": "7ff35ad8",
   "metadata": {
    "execution": {
     "iopub.execute_input": "2023-06-13T09:31:08.991327Z",
     "iopub.status.busy": "2023-06-13T09:31:08.990475Z",
     "iopub.status.idle": "2023-06-13T09:31:09.001011Z",
     "shell.execute_reply": "2023-06-13T09:31:09.000114Z"
    },
    "papermill": {
     "duration": 0.024963,
     "end_time": "2023-06-13T09:31:09.003317",
     "exception": false,
     "start_time": "2023-06-13T09:31:08.978354",
     "status": "completed"
    },
    "tags": []
   },
   "outputs": [
    {
     "data": {
      "text/plain": [
       "Drama                         58\n",
       "Drama, Romance                26\n",
       "Comedy, Drama                 24\n",
       "Crime, Drama, Thriller        22\n",
       "Action, Adventure, Sci-Fi     21\n",
       "                              ..\n",
       "Crime, Film-Noir, Thriller     1\n",
       "Drama, Film-Noir, Romance      1\n",
       "Drama, History, Romance        1\n",
       "Adventure, Horror, Sci-Fi      1\n",
       "Comedy, Music, Musical         1\n",
       "Name: Genre, Length: 172, dtype: int64"
      ]
     },
     "execution_count": 17,
     "metadata": {},
     "output_type": "execute_result"
    }
   ],
   "source": [
    "#step 3\n",
    "data['Genre'].value_counts()\n",
    "post_popular_genre = data['Genre'].value_counts()\n",
    "post_popular_genre"
   ]
  },
  {
   "cell_type": "code",
   "execution_count": 18,
   "id": "d59c6578",
   "metadata": {
    "execution": {
     "iopub.execute_input": "2023-06-13T09:31:09.027119Z",
     "iopub.status.busy": "2023-06-13T09:31:09.026739Z",
     "iopub.status.idle": "2023-06-13T09:31:09.035516Z",
     "shell.execute_reply": "2023-06-13T09:31:09.034691Z"
    },
    "papermill": {
     "duration": 0.023014,
     "end_time": "2023-06-13T09:31:09.037545",
     "exception": false,
     "start_time": "2023-06-13T09:31:09.014531",
     "status": "completed"
    },
    "tags": []
   },
   "outputs": [
    {
     "data": {
      "text/plain": [
       "Drama                         58\n",
       "Drama, Romance                26\n",
       "Comedy, Drama                 24\n",
       "Crime, Drama, Thriller        22\n",
       "Action, Adventure, Sci-Fi     21\n",
       "                              ..\n",
       "Crime, Film-Noir, Thriller     1\n",
       "Drama, Film-Noir, Romance      1\n",
       "Drama, History, Romance        1\n",
       "Adventure, Horror, Sci-Fi      1\n",
       "Comedy, Music, Musical         1\n",
       "Name: Genre, Length: 172, dtype: int64"
      ]
     },
     "execution_count": 18,
     "metadata": {},
     "output_type": "execute_result"
    }
   ],
   "source": [
    "#step 4\n",
    "new_df = data.Genre.value_counts()\n",
    "\n",
    "new_df"
   ]
  },
  {
   "cell_type": "code",
   "execution_count": 19,
   "id": "9c268bd8",
   "metadata": {
    "execution": {
     "iopub.execute_input": "2023-06-13T09:31:09.061770Z",
     "iopub.status.busy": "2023-06-13T09:31:09.061387Z",
     "iopub.status.idle": "2023-06-13T09:31:09.391337Z",
     "shell.execute_reply": "2023-06-13T09:31:09.390176Z"
    },
    "papermill": {
     "duration": 0.344824,
     "end_time": "2023-06-13T09:31:09.393622",
     "exception": false,
     "start_time": "2023-06-13T09:31:09.048798",
     "status": "completed"
    },
    "tags": []
   },
   "outputs": [
    {
     "data": {
      "image/png": "[encoded data removed]",
      "text/plain": [
       "<Figure size 640x480 with 1 Axes>"
      ]
     },
     "metadata": {},
     "output_type": "display_data"
    }
   ],
   "source": [
    "#step 5\n",
    "# import matplotlib.pyplot as mpl\n",
    "\n",
    "movies = new_df[0:10].index\n",
    "count = list(new_df.iloc[:10])\n",
    "\n",
    "plt.barh(movies,count)\n",
    "plt.ylabel(\"Most Popular Genres\")\n",
    "plt.xlabel(\"Popularity\")\n",
    "plt.title(\"Top 10 Catefories\")\n",
    "plt.show()"
   ]
  },
  {
   "cell_type": "code",
   "execution_count": 20,
   "id": "f3c7cb1e",
   "metadata": {
    "execution": {
     "iopub.execute_input": "2023-06-13T09:31:09.419956Z",
     "iopub.status.busy": "2023-06-13T09:31:09.419531Z",
     "iopub.status.idle": "2023-06-13T09:31:09.429174Z",
     "shell.execute_reply": "2023-06-13T09:31:09.428112Z"
    },
    "papermill": {
     "duration": 0.025535,
     "end_time": "2023-06-13T09:31:09.431562",
     "exception": false,
     "start_time": "2023-06-13T09:31:09.406027",
     "status": "completed"
    },
    "tags": []
   },
   "outputs": [
    {
     "data": {
      "text/plain": [
       "Steven Spielberg        13\n",
       "Martin Scorsese         10\n",
       "Alfred Hitchcock         9\n",
       "Christopher Nolan        8\n",
       "Clint Eastwood           8\n",
       "                        ..\n",
       "Jon Favreau              1\n",
       "Yimou Zhang              1\n",
       "Danis Tanovic            1\n",
       "Shin'ichirô Watanabe     1\n",
       "Richard Lester           1\n",
       "Name: Director, Length: 402, dtype: int64"
      ]
     },
     "execution_count": 20,
     "metadata": {},
     "output_type": "execute_result"
    }
   ],
   "source": [
    "#step 6\n",
    "Director_count_df = data.Director.value_counts()\n",
    "Director_count_df"
   ]
  },
  {
   "cell_type": "code",
   "execution_count": 21,
   "id": "8b740b6e",
   "metadata": {
    "execution": {
     "iopub.execute_input": "2023-06-13T09:31:09.457446Z",
     "iopub.status.busy": "2023-06-13T09:31:09.456693Z",
     "iopub.status.idle": "2023-06-13T09:31:09.772080Z",
     "shell.execute_reply": "2023-06-13T09:31:09.770865Z"
    },
    "papermill": {
     "duration": 0.331198,
     "end_time": "2023-06-13T09:31:09.774697",
     "exception": false,
     "start_time": "2023-06-13T09:31:09.443499",
     "status": "completed"
    },
    "tags": []
   },
   "outputs": [
    {
     "data": {
      "image/png": "[encoded data removed]",
      "text/plain": [
       "<Figure size 640x480 with 1 Axes>"
      ]
     },
     "metadata": {},
     "output_type": "display_data"
    }
   ],
   "source": [
    "#step 7\n",
    "directors = Director_count_df[0:10].index\n",
    "counter = list(Director_count_df.iloc[:10])\n",
    "plt.barh(directors,counter)\n",
    "plt.ylabel(\"Best Directors\")\n",
    "plt.xlabel(\"high rated movies\")\n",
    "plt.title(\"Top 10 Directors\")\n",
    "plt.show()"
   ]
  },
  {
   "cell_type": "code",
   "execution_count": null,
   "id": "c2fd7b0f",
   "metadata": {
    "papermill": {
     "duration": 0.012311,
     "end_time": "2023-06-13T09:31:09.799709",
     "exception": false,
     "start_time": "2023-06-13T09:31:09.787398",
     "status": "completed"
    },
    "tags": []
   },
   "outputs": [],
   "source": []
  }
 ],
 "metadata": {
  "kernelspec": {
   "display_name": "Python 3 (ipykernel)",
   "language": "python",
   "name": "python3"
  },
  "language_info": {
   "codemirror_mode": {
    "name": "ipython",
    "version": 3
   },
   "file_extension": ".py",
   "mimetype": "text/x-python",
   "name": "python",
   "nbconvert_exporter": "python",
   "pygments_lexer": "ipython3",
   "version": "3.9.13"
  },
  "papermill": {
   "default_parameters": {},
   "duration": 16.06631,
   "end_time": "2023-06-13T09:31:10.634109",
   "environment_variables": {},
   "exception": null,
   "input_path": "__notebook__.ipynb",
   "output_path": "__notebook__.ipynb",
   "parameters": {},
   "start_time": "2023-06-13T09:30:54.567799",
   "version": "2.4.0"
  }
 },
 "nbformat": 4,
 "nbformat_minor": 5
}
